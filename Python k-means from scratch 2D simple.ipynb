{
 "cells": [
  {
   "cell_type": "markdown",
   "metadata": {},
   "source": [
    "Python implementation of k-means clustering in 2D"
   ]
  },
  {
   "cell_type": "code",
   "execution_count": 111,
   "metadata": {
    "collapsed": false
   },
   "outputs": [],
   "source": [
    "import numpy as np\n",
    "import matplotlib.pyplot as plt\n",
    "import random as r\n",
    "import math as m"
   ]
  },
  {
   "cell_type": "code",
   "execution_count": 112,
   "metadata": {
    "collapsed": false
   },
   "outputs": [],
   "source": [
    "def make_data(no_points):\n",
    "    \n",
    "    x_points = []\n",
    "    y_points = []\n",
    "    \n",
    "    for point in range(no_points):\n",
    "        x_pos, y_pos = r.randrange(100)/10, r.randrange(100)/10\n",
    "        x_points.append(x_pos)\n",
    "        y_points.append(y_pos)\n",
    "    \n",
    "    return x_points, y_points\n",
    "\n",
    "def init_centroids(k):\n",
    "    \n",
    "    x_centroids = []\n",
    "    y_centroids = []\n",
    "    \n",
    "    for i in range(k):\n",
    "        x_centroid, y_centroid = r.randrange(100)/10, r.randrange(100)/10\n",
    "        x_centroids.append(x_centroid)\n",
    "        y_centroids.append(y_centroid)\n",
    "        \n",
    "    return x_centroids, y_centroids"
   ]
  },
  {
   "cell_type": "code",
   "execution_count": 118,
   "metadata": {
    "collapsed": false
   },
   "outputs": [
    {
     "data": {
      "image/png": "[encoded data removed]",
      "text/plain": [
       "<Figure size 432x288 with 1 Axes>"
      ]
     },
     "metadata": {
      "needs_background": "light"
     },
     "output_type": "display_data"
    }
   ],
   "source": [
    "x_points, y_points = make_data(100)\n",
    "x_centroids, y_centroids = init_centroids(3)\n",
    "\n",
    "plt.scatter(x_points, y_points, label='Data points')\n",
    "plt.scatter(x_centroids, y_centroids, label='Initial centroids')\n",
    "plt.legend(loc='upper right')\n",
    "plt.show()"
   ]
  },
  {
   "cell_type": "code",
   "execution_count": 87,
   "metadata": {
    "collapsed": false
   },
   "outputs": [],
   "source": []
  },
  {
   "cell_type": "code",
   "execution_count": null,
   "metadata": {
    "collapsed": false
   },
   "outputs": [],
   "source": []
  },
  {
   "cell_type": "code",
   "execution_count": null,
   "metadata": {
    "collapsed": false
   },
   "outputs": [],
   "source": []
  },
  {
   "cell_type": "code",
   "execution_count": null,
   "metadata": {
    "collapsed": true
   },
   "outputs": [],
   "source": []
  },
  {
   "cell_type": "code",
   "execution_count": null,
   "metadata": {
    "collapsed": true
   },
   "outputs": [],
   "source": []
  }
 ],
 "metadata": {
  "kernelspec": {
   "display_name": "Python 3",
   "language": "python",
   "name": "python3"
  },
  "language_info": {
   "codemirror_mode": {
    "name": "ipython",
    "version": 3
   },
   "file_extension": ".py",
   "mimetype": "text/x-python",
   "name": "python",
   "nbconvert_exporter": "python",
   "pygments_lexer": "ipython3",
   "version": "3.8.1"
  }
 },
 "nbformat": 4,
 "nbformat_minor": 0
}
