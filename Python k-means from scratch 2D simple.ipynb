{
 "cells": [
  {
   "cell_type": "markdown",
   "metadata": {},
   "source": [
    "Python implementation of k-means clustering in 2D"
   ]
  },
  {
   "cell_type": "code",
   "execution_count": 189,
   "metadata": {
    "collapsed": false
   },
   "outputs": [],
   "source": [
    "import numpy as np\n",
    "import matplotlib.pyplot as plt\n",
    "import random as r\n",
    "import math as m"
   ]
  },
  {
   "cell_type": "code",
   "execution_count": 190,
   "metadata": {
    "collapsed": false
   },
   "outputs": [],
   "source": [
    "def make_data(no_points):\n",
    "    \n",
    "    x_points = []\n",
    "    y_points = []\n",
    "    \n",
    "    for point in range(no_points):\n",
    "        x_pos, y_pos = r.randrange(100)/10, r.randrange(100)/10\n",
    "        x_points.append(x_pos)\n",
    "        y_points.append(y_pos)\n",
    "    \n",
    "    return x_points, y_points\n",
    "\n",
    "def init_k(k):\n",
    "    \n",
    "    x_k_init = []\n",
    "    y_k_init = []\n",
    "    \n",
    "    for i in range(k):\n",
    "        x_k_position, y_k_position = r.randrange(100)/10, r.randrange(100)/10\n",
    "        x_k_init.append(x_k_position)\n",
    "        y_k_init.append(y_k_position)\n",
    "        \n",
    "    return x_k_init, y_k_init"
   ]
  },
  {
   "cell_type": "code",
   "execution_count": 191,
   "metadata": {
    "collapsed": false
   },
   "outputs": [
    {
     "data": {
      "image/png": "[encoded data removed]",
      "text/plain": [
       "<Figure size 432x288 with 1 Axes>"
      ]
     },
     "metadata": {
      "needs_background": "light"
     },
     "output_type": "display_data"
    }
   ],
   "source": [
    "k=3\n",
    "x_points, y_points = make_data(40)\n",
    "x_k_init, y_k_init = init_k(k)\n",
    "\n",
    "plt.scatter(x_points, y_points, label='Data points')\n",
    "plt.scatter(x_k_init, y_k_init, label='Initial centroids')\n",
    "plt.legend(loc='upper right')\n",
    "plt.show()"
   ]
  },
  {
   "cell_type": "code",
   "execution_count": 192,
   "metadata": {
    "collapsed": false
   },
   "outputs": [],
   "source": [
    "def distance_calc(x_points, y_points, x_k_init, y_k_init):\n",
    "\n",
    "    distances = []\n",
    "    for i, n in enumerate(x_points):\n",
    "        k_dists = []\n",
    "        for j, n in enumerate(x_k_init):\n",
    "            k_dist = np.sqrt(((x_k_init[j]-x_points[i])**2) + ((y_k_init[j]-y_points[i])**2))\n",
    "            k_dists.append(k_dist)\n",
    "        distances.append(k_dists)\n",
    "    distances = np.array(distances)\n",
    "    \n",
    "    return(distances)"
   ]
  },
  {
   "cell_type": "code",
   "execution_count": 193,
   "metadata": {
    "collapsed": false
   },
   "outputs": [],
   "source": [
    "distances = distance_calc(x_points, y_points, x_k_init, y_k_init)\n",
    "def k_allocation(distanes):\n",
    "    \n",
    "    which_k = []\n",
    "    for i in distances:\n",
    "        which_k.append(np.argmin(i))\n",
    "    \n",
    "    return(which_k)\n",
    "\n",
    "which_k = k_allocation(distances)"
   ]
  },
  {
   "cell_type": "code",
   "execution_count": 194,
   "metadata": {
    "collapsed": false
   },
   "outputs": [],
   "source": [
    "cluster_a = []\n",
    "cluster_b = []\n",
    "cluster_c = []\n",
    "\n",
    "for a, b in enumerate(x_points):\n",
    "    if which_k[a] == 0:\n",
    "        cluster_a.append([x_points[a], y_points[a]])\n",
    "    elif which_k[a] == 1:\n",
    "        cluster_b.append([x_points[a], y_points[a]])\n",
    "    elif which_k[a] == 2:\n",
    "        cluster_c.append([x_points[a], y_points[a]])\n",
    "    \n",
    "cluster_a = np.array(cluster_a)\n",
    "cluster_b = np.array(cluster_b)\n",
    "cluster_c = np.array(cluster_c)   \n"
   ]
  },
  {
   "cell_type": "code",
   "execution_count": 195,
   "metadata": {
    "collapsed": false
   },
   "outputs": [
    {
     "data": {
      "text/plain": [
       "<function matplotlib.pyplot.show(*args, **kw)>"
      ]
     },
     "execution_count": 195,
     "metadata": {},
     "output_type": "execute_result"
    },
    {
     "data": {
      "image/png": "[encoded data removed]",
      "text/plain": [
       "<Figure size 432x288 with 1 Axes>"
      ]
     },
     "metadata": {
      "needs_background": "light"
     },
     "output_type": "display_data"
    }
   ],
   "source": [
    "plt.scatter(cluster_a[:,0],cluster_a[:,1], label='Cluster A')\n",
    "plt.scatter(cluster_b[:,0],cluster_b[:,1], label='Cluster B')\n",
    "plt.scatter(cluster_c[:,0],cluster_c[:,1], label='Cluster C')\n",
    "plt.scatter(x_k_init, y_k_init, c = 'k', label='Initial centroids')\n",
    "plt.legend(loc='upper right')\n",
    "plt.show"
   ]
  },
  {
   "cell_type": "code",
   "execution_count": null,
   "metadata": {
    "collapsed": false
   },
   "outputs": [],
   "source": []
  },
  {
   "cell_type": "code",
   "execution_count": null,
   "metadata": {
    "collapsed": false
   },
   "outputs": [],
   "source": []
  },
  {
   "cell_type": "code",
   "execution_count": null,
   "metadata": {
    "collapsed": true
   },
   "outputs": [],
   "source": []
  }
 ],
 "metadata": {
  "kernelspec": {
   "display_name": "Python 3",
   "language": "python",
   "name": "python3"
  },
  "language_info": {
   "codemirror_mode": {
    "name": "ipython",
    "version": 3
   },
   "file_extension": ".py",
   "mimetype": "text/x-python",
   "name": "python",
   "nbconvert_exporter": "python",
   "pygments_lexer": "ipython3",
   "version": "3.8.1"
  }
 },
 "nbformat": 4,
 "nbformat_minor": 0
}
